{
 "cells": [
  {
   "cell_type": "markdown",
   "metadata": {},
   "source": [
    "# Question 1:\n",
    "\n",
    "What data type is each of the following?\n",
    "\n",
    "5 \n",
    "\n",
    "Ans: int\n",
    "\n",
    "5.0 \n",
    "\n",
    "Ans: float\n",
    "\n",
    "5 > 1 \n",
    "\n",
    "Ans: Boolean\n",
    "    \n",
    "'5'\n",
    "\n",
    "Ans: Character\n",
    "    \n",
    "5 * 2\n",
    "\n",
    "Ans: Int\n",
    "\n",
    "    \n",
    "'5' + '2'\n",
    "\n",
    "Ans: String\n",
    "\n",
    "5 / 2\n",
    "\n",
    "Ans: Float\n",
    "\n",
    "5 // 2\n",
    "\n",
    "Ans: Int\n",
    "\n",
    "[5, 2, 1]\n",
    "\n",
    "Ans: Array\n",
    "\n",
    "5 in [1, 4, 6]\n",
    "\n",
    "Ans: Boolean\n",
    "\n",
    "Pi (the number)\n",
    "\n",
    "Ans: Double"
   ]
  },
  {
   "cell_type": "markdown",
   "metadata": {},
   "source": [
    "# Question 2:\n",
    "    \n",
    "    Write (and evaluate) C# expressions that answer these questions:\n",
    "    \n",
    "a. How many letters are there in 'Supercalifragilisticexpialidocious'?\n",
    "\n",
    "\n",
    "b. Does 'Supercalifragilisticexpialidocious' contain 'ice' as a substring?\n",
    "\n",
    "c. Which of the following words is the longest:\n",
    "Supercalifragilisticexpialidocious, Honorificabilitudinitatibus, or\n",
    "Bababadalgharaghtakamminarronnkonn?\n",
    "\n",
    "d. Which composer comes first in the dictionary: 'Berlioz', 'Borodin', 'Brian',\n",
    "'Bartok', 'Bellini', 'Buxtehude', 'Bernstein'. Which one comes last?\n"
   ]
  },
  {
   "cell_type": "markdown",
   "metadata": {},
   "source": [
    "a. How many letters are there in 'Supercalifragilisticexpialidocious'?"
   ]
  },
  {
   "cell_type": "code",
   "execution_count": null,
   "metadata": {},
   "outputs": [],
   "source": [
    "using System;\n",
    "\n",
    "public class Numberofletters\n",
    "{\n",
    "    public static void Main()\n",
    "    {\n",
    "        String string1 = \"Supercalifragilisticexpialidocious\";\n",
    "        int count = 0;\n",
    "\n",
    "        //Counts each character except space  \n",
    "        for (int i = 0; i < string1.Length; i++)\n",
    "        {\n",
    "            if (string1[i] != ' ')\n",
    "                count++;\n",
    "        }\n",
    "\n",
    "        //Displays the total number of characters present in the given string  \n",
    "        Console.WriteLine(\"Number of Letters: \" + count);\n",
    "    }\n",
    "}"
   ]
  },
  {
   "cell_type": "markdown",
   "metadata": {},
   "source": []
  },
  {
   "cell_type": "markdown",
   "metadata": {},
   "source": [
    "b. Does 'Supercalifragilisticexpialidocious' contain 'ice' as a substring?"
   ]
  },
  {
   "cell_type": "code",
   "execution_count": null,
   "metadata": {},
   "outputs": [],
   "source": [
    "using System;\n",
    "\n",
    "public class Numberofletters\n",
    "{\n",
    "    public static void Main()\n",
    "    {\n",
    "        String mainstring = \"Supercalifragilisticexpialidocious\";\n",
    "\n",
    "        String substring = \"ice\";\n",
    "\n",
    "       Boolean  is_contains = mainstring.Contains(\"ice\"); // condition declared to  find the substring present or not\n",
    "\n",
    "\n",
    "        if (is_contains)\n",
    "        {\n",
    "            Console.WriteLine(\"Substring present\"); \n",
    "        }\n",
    "\n",
    "        else\n",
    "        {\n",
    "            Console.WriteLine(\"Substring is not present\");\n",
    "\n",
    "        }\n",
    "    }\n",
    "}"
   ]
  },
  {
   "cell_type": "markdown",
   "metadata": {},
   "source": [
    "c. Which of the following words is the longest:\n",
    "Supercalifragilisticexpialidocious, Honorificabilitudinitatibus, or\n",
    "Bababadalgharaghtakamminarronnkonn?"
   ]
  },
  {
   "cell_type": "code",
   "execution_count": null,
   "metadata": {},
   "outputs": [],
   "source": [
    "using System;\n",
    "using System.Linq;\n",
    "class longeststring\n",
    "{\n",
    "    static void Main()\n",
    "    {\n",
    "        var strings = new string[] { \"Supercalifragilisticexpialidocious\", \"Honorificabilitudinitatibus\", \"Bababadalgharaghtakamminarronnkonn\" };\n",
    "\n",
    "        string longest = strings.OrderByDescending(s => s.Length).First();\n",
    "        Console.WriteLine(\"String with more number of characters: {0}\", longest);\n",
    "    }\n",
    "}"
   ]
  },
  {
   "cell_type": "markdown",
   "metadata": {},
   "source": [
    "# Question 3 C#\n",
    "\n",
    "Implement function triangleArea(a,b,c) that takes as input the lengths of the 3\n",
    "sides of a triangle and returns the area of the triangle. By Heron's formula, the area\n",
    "of a triangle with side lengths a, b, and c is\n",
    "s(s - a)(s -b)(s -c)\n",
    ", where\n",
    "s = (a+b+c)/2. "
   ]
  },
  {
   "cell_type": "code",
   "execution_count": null,
   "metadata": {},
   "outputs": [],
   "source": [
    "using System;\n",
    "\n",
    "namespace TriangleArea\n",
    "{\n",
    "    public class TriangleArea\n",
    "    {\n",
    "        public static void Main(string[] args)\n",
    "        {\n",
    "            double s, area;\n",
    "            double a, b, c;\n",
    "\n",
    "            Console.WriteLine(\"Enter side a\"); //Get value a\n",
    "            a = double.Parse(Console.ReadLine());\n",
    "\n",
    "            Console.WriteLine(\"Enter side b\"); // Get value b\n",
    "            b = double.Parse(Console.ReadLine());\n",
    "\n",
    "            Console.WriteLine(\"Enter side c\");\n",
    "            c = double.Parse(Console.ReadLine()); // Get value c\n",
    "\n",
    "            s = (a + b + c) / 2;\n",
    "            area = Math.Sqrt(s * (s - a) * (s - b) * (s - c));\n",
    "\n",
    "            Console.WriteLine(\"Area = {0}\", area);\n",
    "        }\n",
    "    }\n",
    "}"
   ]
  },
  {
   "cell_type": "markdown",
   "metadata": {},
   "source": [
    "# Question 4 C#\n",
    "\n",
    "Write a program in C# Sharp to separate odd and even integers in separate arrays.\n",
    "Go to the editor\n",
    "Test Data :\n",
    "Input the number of elements to be stored in the array :5\n",
    "Input 5 elements in the array :\n",
    "element - 0 : 25\n",
    "element - 1 : 47\n",
    "element - 2 : 42\n",
    "element - 3 : 56\n",
    "element - 4 : 32"
   ]
  },
  {
   "cell_type": "code",
   "execution_count": null,
   "metadata": {},
   "outputs": [],
   "source": [
    "using System;\n",
    "public class OddEvenseperator\n",
    "{\n",
    "    public static void Main()\n",
    "    {\n",
    "        int[] array1 = new int[10];\n",
    "        int[] array2 = new int[10];\n",
    "        int[] array3 = new int[10];\n",
    "        int i, j = 0, k = 0, n;\n",
    "\n",
    "\n",
    "        Console.Write(\"Input the number of elements to be stored in the array :\");\n",
    "        n = Convert.ToInt32(Console.ReadLine());\n",
    "\n",
    "        Console.Write(\"Input {0} elements in the array :\\n\", n);\n",
    "        for (i = 0; i < n; i++)\n",
    "        {\n",
    "            Console.Write(\"element - {0} : \", i);\n",
    "            array1[i] = Convert.ToInt32(Console.ReadLine());\n",
    "        }\n",
    "\n",
    "        for (i = 0; i < n; i++)\n",
    "        {\n",
    "            if (array1[i] % 2 == 0)\n",
    "            {\n",
    "                array2[j] = array1[i];\n",
    "                j++;\n",
    "            }\n",
    "            else\n",
    "            {\n",
    "                array3[k] = array1[i];\n",
    "                k++;\n",
    "            }\n",
    "        }\n",
    "\n",
    "        Console.Write(\"\\nThe Even elements are : \\n\");\n",
    "        for (i = 0; i < j; i++)\n",
    "        {\n",
    "            Console.Write(\"{0} \", array2[i]);\n",
    "        }\n",
    "\n",
    "        Console.Write(\"\\nThe Odd elements are :\\n\");\n",
    "        for (i = 0; i < k; i++)\n",
    "        {\n",
    "            Console.Write(\"{0} \", array3[i]);\n",
    "        }\n",
    "        Console.Write(\"\\n\\n\");\n",
    "    }\n",
    "}"
   ]
  },
  {
   "cell_type": "markdown",
   "metadata": {},
   "source": [
    "# Question 5 C#\n",
    "\n",
    "a. Write a function inside(x,y,x1,y1,x2,y2) that returns True or False\n",
    "depending on whether the point (x,y) lies in the rectangle with lower left\n",
    "corner (x1,y1) and upper right corner (x2,y2)."
   ]
  },
  {
   "cell_type": "code",
   "execution_count": null,
   "metadata": {},
   "outputs": [],
   "source": [
    "using System;\n",
    "\n",
    "class Findgivenpoint\n",
    "{\n",
    "    static bool FindPoint(int x, int y,int x1, int y1, int x2,\n",
    "                          int y2)\n",
    "    {\n",
    "        if (x > x1 && x < x2 & y > y1 && y < y2)\n",
    "            return true;\n",
    "\n",
    "        return false;\n",
    "    }\n",
    "    public static void Main()\n",
    "    {\n",
    "        \n",
    "        int x = 1, y = 1; // Point to be found\n",
    "\n",
    "        int x1 = 0, y1 = 0, // lower left\n",
    "            x2 = 2, y2 = 3; // upper right\n",
    "       \n",
    "        if (FindPoint(x, y, x1, y1, x2, y2))\n",
    "            Console.Write(\"True\");\n",
    "        else\n",
    "            Console.Write(\"False\");\n",
    "    }\n",
    "}"
   ]
  },
  {
   "cell_type": "markdown",
   "metadata": {},
   "source": [
    "# Question 6. \n",
    "\n",
    "You can turn a word into pig-Latin using the following two rules (simplified):\n",
    "• If the word starts with a consonant, move that letter to the end and append\n",
    "'ay'. For example, 'happy' becomes 'appyhay' and 'pencil' becomes 'encilpay'.\n",
    "• If the word starts with a vowel, simply append 'way' to the end of the word.\n",
    "For example, 'enter' becomes 'enterway' and 'other' becomes 'otherway' . For\n",
    "our purposes, there are 5 vowels: a, e, i, o, u (so we count y as a consonant).\n",
    "Write a function pig() that takes a word (i.e., a string) as input and returns its pigLatin form. Your function should still work if the input word contains upper case\n",
    "characters. Your output should always be lower case however. \n"
   ]
  },
  {
   "cell_type": "code",
   "execution_count": 11,
   "metadata": {},
   "outputs": [
    {
     "name": "stdout",
     "output_type": "stream",
     "text": [
      "appyhay\n",
      "enterway\n"
     ]
    }
   ],
   "source": [
    "def pig(word):\n",
    "        ch = word[0].lower()\n",
    "        ans=\"\"\n",
    "        if(ch=='a' or ch =='e' or ch=='i' or ch=='o' or ch=='u'):\n",
    "                ans = word+\"way\"\n",
    "        else:\n",
    "            ans = word[1:]+word[0]+\"ay\"\n",
    "        print(ans.lower())\n",
    "\n",
    "pig(\"Happy\")\n",
    "pig('Enter')"
   ]
  },
  {
   "cell_type": "code",
   "execution_count": 2,
   "metadata": {},
   "outputs": [
    {
     "name": "stdout",
     "output_type": "stream",
     "text": [
      "aviray\n"
     ]
    }
   ],
   "source": [
    "pig(\"ravi\")"
   ]
  },
  {
   "cell_type": "markdown",
   "metadata": {},
   "source": [
    "# Question 7.\n",
    "\n",
    "File bloodtype1.txt records blood-types of patients (A, B, AB, O or OO) at a clinic.\n",
    "Write a function bldcount() that reads the file with name name and reports (i.e.,\n",
    "prints) how many patients there are in each bloodtype.\n",
    "\n",
    "bldcount('bloodtype.txt')\n",
    "There are 10 patients of blood type A.\n",
    "There is one patient of blood type B.\n",
    "There are 10 patients of blood type AB.\n",
    "There are 12 patients of blood type O.\n",
    "There are no patients of blood type OO."
   ]
  },
  {
   "cell_type": "code",
   "execution_count": 12,
   "metadata": {},
   "outputs": [
    {
     "name": "stdout",
     "output_type": "stream",
     "text": [
      "There are 15 patients of blood type A\n",
      "There are 1 patients of blood type B\n",
      "There are 13 patients of blood type AB\n",
      "There are 15 patients of blood type O\n",
      "There are 0 patients of blood type OO\n"
     ]
    }
   ],
   "source": [
    "bloodtypelist=['A','B','AB','O','OO']\n",
    "f = open('bloodtype1.txt').read().split()\n",
    "countlist = []\n",
    "for i in bloodtypelist:\n",
    "    number_of_times = 0\n",
    "    for j in f:\n",
    "        if i == j:\n",
    "            number_of_times += 1\n",
    "        countlist.append(number_of_times)\n",
    "    print('There are '+str(number_of_times)+' patients of blood type '+i)   "
   ]
  },
  {
   "cell_type": "markdown",
   "metadata": {},
   "source": [
    "# Question 8:\n",
    "\n",
    "Write a function curconv() that takes as input:\n",
    "1. a currency represented using a string (e.g., 'JPY' for the Japanese Yen or\n",
    "'EUR' for the Euro)\n",
    "2. an amount\n",
    "and then converts and returns the amount in US dollars.\n",
    ">>> curconv('EUR', 100)\n",
    "122.96544\n",
    ">>> curconv('JPY', 100)\n",
    "1.241401\n",
    "The currency rates you will need are stored in file currencies.txt:\n",
    "AUD 1.0345157 Australian Dollar\n",
    "CHF 1.0237414 Swiss Franc\n",
    "CNY 0.1550176 Chinese Yuan\n",
    "DKK 0.1651442 Danish Krone\n",
    "EUR 1.2296544 Euro\n",
    "GBP 1.5550989 British Pound\n",
    "HKD 0.1270207 Hong Kong Dollar\n",
    "INR 0.0177643 Indian Rupee\n",
    "JPY 0.01241401 Japanese Yen\n",
    "MXN 0.0751848 Mexican Peso\n",
    "MYR 0.3145411 Malaysian Ringgit\n",
    "NOK 0.1677063 Norwegian Krone\n",
    "NZD 0.8003591 New Zealand Dollar\n",
    "PHP 0.0233234 Philippine Peso\n",
    "SEK 0.148269 Swedish Krona\n",
    "SGD 0.788871 Singapore Dollar\n",
    "THB 0.0313789 Thai Baht"
   ]
  },
  {
   "cell_type": "code",
   "execution_count": 4,
   "metadata": {},
   "outputs": [
    {
     "name": "stdout",
     "output_type": "stream",
     "text": [
      "1.241401\n",
      "122.96544\n"
     ]
    }
   ],
   "source": [
    "f = open('Currencies.txt')\n",
    "currency_map = {}\n",
    "for i in f:\n",
    "    line = i.split(\"\\t\")\n",
    "    currency_map[line[0]] = float(line[1])\n",
    "\n",
    "\n",
    "def curconv(cur , amount):\n",
    "    if cur in currency_map.keys():\n",
    "        print(currency_map[cur] * float(amount))\n",
    "               \n",
    "curconv('JPY',100)\n",
    "curconv('EUR', 100)"
   ]
  },
  {
   "cell_type": "markdown",
   "metadata": {},
   "source": [
    "# Question 9.\n",
    "\n",
    "Each of the following will cause an exception (an error). Identify what type of\n",
    "exception each will cause.\n"
   ]
  },
  {
   "cell_type": "code",
   "execution_count": 5,
   "metadata": {},
   "outputs": [
    {
     "ename": "TypeError",
     "evalue": "unsupported operand type(s) for +: 'int' and 'str'",
     "output_type": "error",
     "traceback": [
      "\u001b[0;31m---------------------------------------------------------------------------\u001b[0m",
      "\u001b[0;31mTypeError\u001b[0m                                 Traceback (most recent call last)",
      "\u001b[0;32m<ipython-input-5-63a7ed804344>\u001b[0m in \u001b[0;36m<module>\u001b[0;34m\u001b[0m\n\u001b[0;32m----> 1\u001b[0;31m \u001b[0;36m6\u001b[0m \u001b[0;34m+\u001b[0m \u001b[0;34m'a'\u001b[0m\u001b[0;34m\u001b[0m\u001b[0;34m\u001b[0m\u001b[0m\n\u001b[0m",
      "\u001b[0;31mTypeError\u001b[0m: unsupported operand type(s) for +: 'int' and 'str'"
     ]
    }
   ],
   "source": [
    "6 + 'a'"
   ]
  },
  {
   "cell_type": "code",
   "execution_count": 6,
   "metadata": {},
   "outputs": [
    {
     "ename": "IndexError",
     "evalue": "list index out of range",
     "output_type": "error",
     "traceback": [
      "\u001b[0;31m---------------------------------------------------------------------------\u001b[0m",
      "\u001b[0;31mIndexError\u001b[0m                                Traceback (most recent call last)",
      "\u001b[0;32m<ipython-input-6-c14de0721857>\u001b[0m in \u001b[0;36m<module>\u001b[0;34m\u001b[0m\n\u001b[1;32m      1\u001b[0m \u001b[0mlst\u001b[0m \u001b[0;34m=\u001b[0m \u001b[0;34m[\u001b[0m\u001b[0;34m'a'\u001b[0m\u001b[0;34m,\u001b[0m\u001b[0;34m'b'\u001b[0m\u001b[0;34m,\u001b[0m\u001b[0;34m'c'\u001b[0m\u001b[0;34m,\u001b[0m\u001b[0;34m'd'\u001b[0m\u001b[0;34m,\u001b[0m\u001b[0;34m'e'\u001b[0m\u001b[0;34m,\u001b[0m\u001b[0;34m'f'\u001b[0m\u001b[0;34m,\u001b[0m\u001b[0;34m'g'\u001b[0m\u001b[0;34m,\u001b[0m\u001b[0;34m'h'\u001b[0m\u001b[0;34m,\u001b[0m\u001b[0;34m'i'\u001b[0m\u001b[0;34m,\u001b[0m\u001b[0;34m'j'\u001b[0m\u001b[0;34m]\u001b[0m\u001b[0;34m\u001b[0m\u001b[0;34m\u001b[0m\u001b[0m\n\u001b[0;32m----> 2\u001b[0;31m \u001b[0mlst\u001b[0m\u001b[0;34m[\u001b[0m\u001b[0;36m12\u001b[0m\u001b[0;34m]\u001b[0m\u001b[0;34m\u001b[0m\u001b[0;34m\u001b[0m\u001b[0m\n\u001b[0m",
      "\u001b[0;31mIndexError\u001b[0m: list index out of range"
     ]
    }
   ],
   "source": [
    "lst = ['a','b','c','d','e','f','g','h','i','j']\n",
    "lst[12]"
   ]
  },
  {
   "cell_type": "code",
   "execution_count": 7,
   "metadata": {},
   "outputs": [
    {
     "ename": "NameError",
     "evalue": "name 'math' is not defined",
     "output_type": "error",
     "traceback": [
      "\u001b[0;31m---------------------------------------------------------------------------\u001b[0m",
      "\u001b[0;31mNameError\u001b[0m                                 Traceback (most recent call last)",
      "\u001b[0;32m<ipython-input-7-af58edfd85d2>\u001b[0m in \u001b[0;36m<module>\u001b[0;34m\u001b[0m\n\u001b[0;32m----> 1\u001b[0;31m \u001b[0mmath\u001b[0m\u001b[0;34m.\u001b[0m\u001b[0msqrt\u001b[0m\u001b[0;34m(\u001b[0m\u001b[0;34m-\u001b[0m\u001b[0;36m2.0\u001b[0m\u001b[0;34m)\u001b[0m\u001b[0;34m\u001b[0m\u001b[0;34m\u001b[0m\u001b[0m\n\u001b[0m",
      "\u001b[0;31mNameError\u001b[0m: name 'math' is not defined"
     ]
    }
   ],
   "source": [
    "math.sqrt(-2.0)"
   ]
  },
  {
   "cell_type": "code",
   "execution_count": 8,
   "metadata": {},
   "outputs": [
    {
     "ename": "NameError",
     "evalue": "name 'x' is not defined",
     "output_type": "error",
     "traceback": [
      "\u001b[0;31m---------------------------------------------------------------------------\u001b[0m",
      "\u001b[0;31mNameError\u001b[0m                                 Traceback (most recent call last)",
      "\u001b[0;32m<ipython-input-8-fc17d851ef81>\u001b[0m in \u001b[0;36m<module>\u001b[0;34m\u001b[0m\n\u001b[0;32m----> 1\u001b[0;31m \u001b[0mprint\u001b[0m\u001b[0;34m(\u001b[0m\u001b[0mx\u001b[0m\u001b[0;34m)\u001b[0m\u001b[0;34m\u001b[0m\u001b[0;34m\u001b[0m\u001b[0m\n\u001b[0m",
      "\u001b[0;31mNameError\u001b[0m: name 'x' is not defined"
     ]
    }
   ],
   "source": [
    "print(x)"
   ]
  },
  {
   "cell_type": "code",
   "execution_count": 9,
   "metadata": {},
   "outputs": [
    {
     "ename": "FileNotFoundError",
     "evalue": "[Errno 2] No such file or directory: 'wrongname.txt'",
     "output_type": "error",
     "traceback": [
      "\u001b[0;31m---------------------------------------------------------------------------\u001b[0m",
      "\u001b[0;31mFileNotFoundError\u001b[0m                         Traceback (most recent call last)",
      "\u001b[0;32m<ipython-input-9-e388f6bbc38c>\u001b[0m in \u001b[0;36m<module>\u001b[0;34m\u001b[0m\n\u001b[0;32m----> 1\u001b[0;31m \u001b[0mf\u001b[0m \u001b[0;34m=\u001b[0m \u001b[0mopen\u001b[0m\u001b[0;34m(\u001b[0m\u001b[0;34m\"wrongname.txt\"\u001b[0m\u001b[0;34m)\u001b[0m\u001b[0;34m\u001b[0m\u001b[0;34m\u001b[0m\u001b[0m\n\u001b[0m",
      "\u001b[0;31mFileNotFoundError\u001b[0m: [Errno 2] No such file or directory: 'wrongname.txt'"
     ]
    }
   ],
   "source": [
    "f = open(\"wrongname.txt\")"
   ]
  },
  {
   "cell_type": "markdown",
   "metadata": {},
   "source": [
    "# Question 10:\n",
    "\n",
    "\n",
    "Encryption is the process of hiding the meaning of a text by substituting letters in the\n",
    "message with other letters, according to some system. If the process is successful, no\n",
    "one but the intended recipient can understand the encrypted message. Cryptanalysis\n",
    "refers to attempts to undo the encryption, even if some details of the encryption are\n",
    "unknown (for example, if an encrypted message has been intercepted). The first step\n",
    "of cryptanalysis is often to build up a table of letter frequencies in the encrypted text.\n",
    "Assume that the string letters is already defined as\n",
    "'abcdefghijklmnopqrstuvwxyz'. Write a function called frequencies()\n",
    "that takes a string as its only parameter, and returns a list of integers, showing the\n",
    "number of times each character appears in the text. Your function may ignore any\n",
    "characters that are not in letters.\n",
    "\n",
    "frequencies('The quick red fox got bored and went home.')\n",
    "[1, 1, 1, 3, 5, 1, 1, 2, 1, 0, 1, 0, 1, 2, 4, 0, 1, 2, 0, 2,\n",
    "1, 0, 1, 1, 0, 0]\n",
    "\n",
    "frequencies('apple')\n",
    "\n"
   ]
  },
  {
   "cell_type": "code",
   "execution_count": 10,
   "metadata": {},
   "outputs": [
    {
     "name": "stdout",
     "output_type": "stream",
     "text": [
      "[1, 1, 1, 3, 5, 1, 1, 2, 1, 0, 1, 0, 1, 2, 4, 0, 1, 2, 0, 2, 1, 0, 1, 1, 0, 0]\n",
      "[1, 0, 0, 0, 1, 0, 0, 0, 0, 0, 0, 1, 0, 0, 0, 2, 0, 0, 0, 0, 0, 0, 0, 0, 0, 0]\n"
     ]
    }
   ],
   "source": [
    "def frequencies(text):\n",
    "    albets='abcdefghijklmnopqrstuvwxyz'\n",
    "    freq = []\n",
    "    for i in albets:\n",
    "        number_of_times = 0\n",
    "        for j in text:\n",
    "            if i == j:\n",
    "                number_of_times += 1\n",
    "        freq.append(number_of_times)\n",
    "    print(freq)\n",
    "        \n",
    "frequencies('The quick red fox got bored and went home.')\n",
    "frequencies('apple')  "
   ]
  }
 ],
 "metadata": {
  "kernelspec": {
   "display_name": "Python 3",
   "language": "python",
   "name": "python3"
  },
  "language_info": {
   "codemirror_mode": {
    "name": "ipython",
    "version": 3
   },
   "file_extension": ".py",
   "mimetype": "text/x-python",
   "name": "python",
   "nbconvert_exporter": "python",
   "pygments_lexer": "ipython3",
   "version": "3.7.4"
  }
 },
 "nbformat": 4,
 "nbformat_minor": 5
}
