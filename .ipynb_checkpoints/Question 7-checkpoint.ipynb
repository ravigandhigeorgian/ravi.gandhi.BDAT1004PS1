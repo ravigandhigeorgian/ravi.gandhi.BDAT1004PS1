{
 "cells": [
  {
   "cell_type": "code",
   "execution_count": 11,
   "metadata": {},
   "outputs": [
    {
     "name": "stdout",
     "output_type": "stream",
     "text": [
      "There are 15 patients of blood type A\n",
      "There are 1 patients of blood type B\n",
      "There are 13 patients of blood type AB\n",
      "There are 15 patients of blood type O\n",
      "There are 0 patients of blood type OO\n"
     ]
    }
   ],
   "source": [
    "bloodtypelist=['A','B','AB','O','OO']\n",
    "f = open('bloodtype1.txt').read().split()\n",
    "countlist = []\n",
    "for i in bloodtypelist:\n",
    "    number_of_times = 0\n",
    "    for j in f:\n",
    "        if i == j:\n",
    "            number_of_times += 1\n",
    "        countlist.append(number_of_times)\n",
    "    print('There are '+str(number_of_times)+' patients of blood type '+i)   "
   ]
  }
 ],
 "metadata": {
  "kernelspec": {
   "display_name": "Python 3",
   "language": "python",
   "name": "python3"
  },
  "language_info": {
   "codemirror_mode": {
    "name": "ipython",
    "version": 3
   },
   "file_extension": ".py",
   "mimetype": "text/x-python",
   "name": "python",
   "nbconvert_exporter": "python",
   "pygments_lexer": "ipython3",
   "version": "3.7.4"
  }
 },
 "nbformat": 4,
 "nbformat_minor": 5
}
