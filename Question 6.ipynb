{
 "cells": [
  {
   "cell_type": "code",
   "execution_count": 8,
   "id": "closing-valentine",
   "metadata": {},
   "outputs": [
    {
     "name": "stdout",
     "output_type": "stream",
     "text": [
      "appyhay\n",
      "enterway\n"
     ]
    }
   ],
   "source": [
    "def pig(word):\n",
    "        ch = word[0].lower()\n",
    "        ans=\"\"\n",
    "        if(ch=='a' or ch =='e' or ch=='i' or ch=='o' or ch=='u'):\n",
    "                ans = word+\"way\"\n",
    "        else:\n",
    "            ans = word[1:]+word[0]+\"ay\"\n",
    "        print(ans.lower())\n",
    "\n",
    "pig(\"Happy\")\n",
    "pig('Enter')"
   ]
  },
  {
   "cell_type": "code",
   "execution_count": 5,
   "id": "logical-liquid",
   "metadata": {},
   "outputs": [
    {
     "name": "stdout",
     "output_type": "stream",
     "text": [
      "aviray\n"
     ]
    }
   ],
   "source": [
    "pig(\"ravi\")"
   ]
  },
  {
   "cell_type": "code",
   "execution_count": null,
   "id": "northern-newman",
   "metadata": {},
   "outputs": [],
   "source": []
  }
 ],
 "metadata": {
  "kernelspec": {
   "display_name": "Python 3",
   "language": "python",
   "name": "python3"
  },
  "language_info": {
   "codemirror_mode": {
    "name": "ipython",
    "version": 3
   },
   "file_extension": ".py",
   "mimetype": "text/x-python",
   "name": "python",
   "nbconvert_exporter": "python",
   "pygments_lexer": "ipython3",
   "version": "3.8.5"
  }
 },
 "nbformat": 4,
 "nbformat_minor": 5
}
