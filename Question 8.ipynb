{
 "cells": [
  {
   "cell_type": "code",
   "execution_count": 22,
   "id": "bound-citizenship",
   "metadata": {},
   "outputs": [
    {
     "name": "stdout",
     "output_type": "stream",
     "text": [
      "1.241401\n",
      "122.96544\n"
     ]
    }
   ],
   "source": [
    "f = open('Currencies.txt')\n",
    "currency_map = {}\n",
    "for i in f:\n",
    "    line = i.split(\"\\t\")\n",
    "    currency_map[line[0]] = float(line[1])\n",
    "\n",
    "\n",
    "def curconv(cur , amount):\n",
    "    if cur in currency_map.keys():\n",
    "        print(currency_map[cur] * float(amount))\n",
    "               \n",
    "curconv('JPY',100)\n",
    "curconv('EUR', 100)"
   ]
  }
 ],
 "metadata": {
  "kernelspec": {
   "display_name": "Python 3",
   "language": "python",
   "name": "python3"
  },
  "language_info": {
   "codemirror_mode": {
    "name": "ipython",
    "version": 3
   },
   "file_extension": ".py",
   "mimetype": "text/x-python",
   "name": "python",
   "nbconvert_exporter": "python",
   "pygments_lexer": "ipython3",
   "version": "3.8.5"
  }
 },
 "nbformat": 4,
 "nbformat_minor": 5
}
