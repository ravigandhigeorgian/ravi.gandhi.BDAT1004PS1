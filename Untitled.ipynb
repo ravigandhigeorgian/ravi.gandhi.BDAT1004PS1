{
 "cells": [
  {
   "cell_type": "code",
   "execution_count": 6,
   "metadata": {},
   "outputs": [
    {
     "name": "stderr",
     "output_type": "stream",
     "text": [
      "\n",
      "(4,24): warning CS7022: The entry point of the program is global code; ignoring 'FibonacciExample.Main()' entry point.\n",
      "\n"
     ]
    }
   ],
   "source": [
    "using System;  \n",
    "  public class FibonacciExample  \n",
    "   {  \n",
    "    public static void Main() \n",
    "      {  \n",
    "         int n1=0,n2=1,n3,i,number;    \n",
    "         Console.Write(\"Enter the number of elements: \");    \n",
    "         number = int.Parse(Console.ReadLine());  \n",
    "         Console.Write(n1+\" \"+n2+\" \"); //printing 0 and 1    \n",
    "         for(i=2;i<number;++i) //loop starts from 2 because 0 and 1 are already printed    \n",
    "         {    \n",
    "          n3=n1+n2;    \n",
    "          Console.Write(n3+\" \");    \n",
    "          n1=n2;    \n",
    "          n2=n3;    \n",
    "         }    \n",
    "      }  \n",
    "   }  "
   ]
  },
  {
   "cell_type": "code",
   "execution_count": null,
   "metadata": {},
   "outputs": [],
   "source": []
  },
  {
   "cell_type": "code",
   "execution_count": null,
   "metadata": {},
   "outputs": [],
   "source": []
  }
 ],
 "metadata": {
  "kernelspec": {
   "display_name": ".NET (C#)",
   "language": "C#",
   "name": ".net-csharp"
  },
  "language_info": {
   "file_extension": ".cs",
   "mimetype": "text/x-csharp",
   "name": "C#",
   "pygments_lexer": "csharp",
   "version": "8.0"
  }
 },
 "nbformat": 4,
 "nbformat_minor": 2
}
